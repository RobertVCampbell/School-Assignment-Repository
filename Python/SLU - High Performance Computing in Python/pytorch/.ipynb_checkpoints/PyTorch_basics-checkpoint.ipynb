{
 "cells": [
  {
   "cell_type": "markdown",
   "metadata": {},
   "source": [
    "# **PyTorch Basics Tutorial**"
   ]
  },
  {
   "cell_type": "markdown",
   "metadata": {},
   "source": [
    "### Check version"
   ]
  },
  {
   "cell_type": "code",
   "execution_count": 1,
   "metadata": {},
   "outputs": [
    {
     "name": "stdout",
     "output_type": "stream",
     "text": [
      "1.5.1\n"
     ]
    }
   ],
   "source": [
    "import torch\n",
    "import torchvision\n",
    "import torchvision.transforms as transforms\n",
    "\n",
    "print(torch.__version__)"
   ]
  },
  {
   "cell_type": "markdown",
   "metadata": {},
   "source": [
    "### Tensors\n",
    "Tensors are similar to NumPy’s ndarrays, with the addition being that Tensors can also be used on a GPU to accelerate computing.\n",
    "\n",
    "### Creating Tensors from data\n",
    "Tensors can be created from Python lists with the `torch.Tensor()` function."
   ]
  },
  {
   "cell_type": "code",
   "execution_count": 2,
   "metadata": {},
   "outputs": [
    {
     "name": "stdout",
     "output_type": "stream",
     "text": [
      "Example with 1-D data\n",
      "tensor([1., 2., 3.])\n",
      "\n",
      "Example with 2-D data\n",
      "tensor([[1., 2., 3.],\n",
      "        [4., 5., 6.]])\n",
      "\n",
      "Example with 3-D data\n",
      "tensor([[[1., 2.],\n",
      "         [3., 4.]],\n",
      "\n",
      "        [[5., 6.],\n",
      "         [7., 8.]]])\n"
     ]
    }
   ],
   "source": [
    "# Example with 1-D data\n",
    "data = [1, 2, 3]\n",
    "tensor = torch.Tensor(data)\n",
    "print(\"Example with 1-D data\")\n",
    "print(tensor)\n",
    "\n",
    "# Example with 2-D data\n",
    "data = [[1., 2., 3.], [4., 5., 6]]\n",
    "tensor = torch.Tensor(data)\n",
    "print(\"\\nExample with 2-D data\")\n",
    "print(tensor)\n",
    "\n",
    "# Example with 3-D data\n",
    "data = [[[1.,2.], [3.,4.]],\n",
    "        [[5.,6.], [7.,8.]]]\n",
    "tensor = torch.Tensor(data)\n",
    "print(\"\\nExample with 3-D data\")\n",
    "print(tensor)"
   ]
  },
  {
   "cell_type": "markdown",
   "metadata": {},
   "source": [
    "### Randomly initialized Tensor"
   ]
  },
  {
   "cell_type": "code",
   "execution_count": 3,
   "metadata": {},
   "outputs": [
    {
     "name": "stdout",
     "output_type": "stream",
     "text": [
      "tensor([[0.0215, 0.1741, 0.4458, 0.4215, 0.8613],\n",
      "        [0.4471, 0.0968, 0.0971, 0.8028, 0.1380],\n",
      "        [0.0991, 0.7654, 0.0199, 0.7335, 0.2705]])\n"
     ]
    }
   ],
   "source": [
    "x = torch.rand(3, 5)\n",
    "print(x)"
   ]
  },
  {
   "cell_type": "markdown",
   "metadata": {},
   "source": [
    "### Operations with Tensors\n",
    "Most operations are very similar to NumPy."
   ]
  },
  {
   "cell_type": "code",
   "execution_count": 4,
   "metadata": {},
   "outputs": [
    {
     "name": "stdout",
     "output_type": "stream",
     "text": [
      "tensor([5., 7., 9.])\n",
      "tensor([5., 7., 9.])\n",
      "tensor([5., 7., 9.])\n"
     ]
    }
   ],
   "source": [
    "# Addition\n",
    "x = torch.Tensor([ 1., 2., 3. ])\n",
    "y = torch.Tensor([ 4., 5., 6. ])\n",
    "\n",
    "# using arithmetic operation\n",
    "z = x + y\n",
    "print(z)\n",
    "\n",
    "# using method\n",
    "print(torch.add(x, y))\n",
    "\n",
    "# using method and providing an output tensor as argument\n",
    "output = torch.empty(2, 3)\n",
    "torch.add(x, y, out=output)\n",
    "print(output)"
   ]
  },
  {
   "cell_type": "markdown",
   "metadata": {},
   "source": [
    "### Perform automatic differentiation"
   ]
  },
  {
   "cell_type": "code",
   "execution_count": null,
   "metadata": {},
   "outputs": [],
   "source": [
    "from torch.autograd import Variable\n",
    "a = Variable(torch.Tensor([[1,2],[3,4]]), requires_grad=True)\n",
    "print(a)\n",
    "y = torch.sum(a**2) # 1 + 4 + 9 + 16 = 30\n",
    "print(y)\n",
    "y.backward()       # compute gradients of y wrt a\n",
    "print(a.grad)      # print dy/da_ij = 2*a_ij for a_11, a_12, a21, a22"
   ]
  },
  {
   "cell_type": "markdown",
   "metadata": {},
   "source": [
    "### Moving tensors around CPU / GPUs"
   ]
  },
  {
   "cell_type": "code",
   "execution_count": null,
   "metadata": {},
   "outputs": [],
   "source": [
    "print(torch.cuda.is_available())\n",
    "\n",
    "print(torch.cuda.device_count()) \n",
    "\n",
    "print(torch.cuda.get_device_name(0)) \n",
    "\n",
    "cuda0 = torch.device('cuda:0') #Performing the addition on GPU\n",
    "\n",
    "a = torch.ones(3, 2, device=cuda0) #creating a tensor 'a' on GPU \n",
    "b = torch.ones(3, 2, device=cuda0) #creating a tensor 'b' on GPU \n",
    "c = a + b \n",
    "print(c) \n",
    "\n",
    "#As you can see the tensors are created on GPU and any operation you do on these tensors will be done on GPU.\n",
    "\n",
    "#moving the result to cpu \n",
    "c = c.cpu()\n",
    "print(c)"
   ]
  },
  {
   "cell_type": "code",
   "execution_count": null,
   "metadata": {},
   "outputs": [],
   "source": []
  }
 ],
 "metadata": {
  "kernelspec": {
   "display_name": "Python 3",
   "language": "python",
   "name": "python3"
  },
  "language_info": {
   "codemirror_mode": {
    "name": "ipython",
    "version": 3
   },
   "file_extension": ".py",
   "mimetype": "text/x-python",
   "name": "python",
   "nbconvert_exporter": "python",
   "pygments_lexer": "ipython3",
   "version": "3.8.3"
  }
 },
 "nbformat": 4,
 "nbformat_minor": 4
}
